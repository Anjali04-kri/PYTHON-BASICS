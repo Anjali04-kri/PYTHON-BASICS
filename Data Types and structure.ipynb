{
 "cells": [
  {
   "cell_type": "raw",
   "id": "c04e1458-b1d4-4417-83e1-342510183bb5",
   "metadata": {},
   "source": [
    "1.What are data structures, and why are they important?\n",
    "\n",
    "ANS. A data structure is a specialized format for organizing and storing data in a computer so that it can be accessed and modified efficiently. They define the relationship between data elements and the operations that can be performed on them.\n",
    "\n",
    "## They are important because of:-\n",
    "-- Efficient Data Access and Manipulation\n",
    "-- Optimized Memory Usage \n",
    "--Scalability and Flexibility\n",
    "--Foundation for Algorithms \n",
    "--Real-World Applications \n"
   ]
  },
  {
   "cell_type": "raw",
   "id": "7967dbb7-8e05-4213-9977-a5a67347f1ed",
   "metadata": {},
   "source": [
    "2. Explain the difference between mutable and immutable data types with examples.\n",
    "\n",
    "Ans. Mutable Data Types\n",
    "-- Mutable objects can be modified after they are created. This means you can change their content without changing their identity \n",
    "\n",
    "Examples:\n",
    "## Lists: Ordered collections that can be modified by adding, removing, or changing elements.\n",
    "my_list = [1, 2, 3]\n",
    "my_list.append(4)  # my_list becomes [1, 2, 3, 4]\n",
    "\n",
    " Immutable Data Types\n",
    "-- Immutable objects cannot be changed after they are created. Any operation that seems to modify them will actually create a new object.\n",
    "\n",
    "Examples:\n",
    "## Strings: Sequences of characters that cannot be changed.\n",
    "s = \"hello\"\n",
    "s = s + \" world\"  # s becomes \"hello world\"\n"
   ]
  },
  {
   "cell_type": "raw",
   "id": "996ea51e-dfe4-4de2-a3b6-de702dc89bc4",
   "metadata": {},
   "source": [
    "3. What are the main differences between lists and tuples in Python?\n",
    "\n",
    "Ans. ## Mutability\n",
    "-- Lists: Mutable — their contents can be changed after creation.\n",
    "-- Tuples: Immutable — once created, their contents cannot be altered.\n",
    "\n",
    "   ## Syntax\n",
    "-- Lists: Defined using square brackets [].\n",
    "-- Tuples: Defined using parentheses ().\n",
    "\n",
    "   ## Built-in Methods\n",
    "-- Lists: Offer numerous methods like append(), remove(), pop(), sort() etc.\n",
    "-- Tuples: Provide only two methods — count() and index()\n",
    "\n",
    "   ## Performance and Memory Usage\n",
    "--Lists: Due to their mutability, lists consume more memory and have slightly slower performance.\n",
    "-- Tuples: Being immutable, tuples are more memory-efficient and faster, especially in iteration operations"
   ]
  },
  {
   "cell_type": "raw",
   "id": "0fb0ab4a-784e-4384-8f7c-35bf2a330768",
   "metadata": {},
   "source": [
    "4. Describe how dictionaries store data.\n",
    "\n",
    "Ans. In Python, dictionaries are implemented using a data structure known as a hash table. This structure allows for efficient storage and retrieval of data through key-value pairs.\n",
    "\n",
    "## Hash Function: When a key is added to a dictionary, Python computes its hash value using a built-in hash function. This hash value determines the index in the underlying array where the key-value pair will be stored.\n",
    "\n",
    "## Buckets: The dictionary maintains an array of buckets (also referred to as slots). Each bucket can hold a key-value pair. Initially, a dictionary starts with a fixed number of buckets.\n",
    "\n",
    "## Collision Resolution: Sometimes, different keys may produce the same hash value, leading to a collision. Python handles these collisions using a method called open addressing. This approach searches for the next available bucket to store the colliding key-value pair. \n",
    "\n",
    "## Resizing: To maintain performance, Python dictionaries automatically resize (typically doubling in size) when a certain load factor is exceeded. This process involves rehashing existing keys to fit into the new array size. \n",
    "data-structures-in-practice.com\n",
    "\n",
    "## Key-Value Storage: Each bucket stores the hash of the key, the key itself, and the associated value. This design ensures that even if two keys have the same hash value, they can be distinguished by comparing the actual keys.\n"
   ]
  },
  {
   "cell_type": "raw",
   "id": "f01e6688-dbef-438c-9920-f54efe81ef2b",
   "metadata": {},
   "source": [
    "5. Why might you use a set instead of a list in Python?\n",
    "\n",
    "Ans. In Python, both lists and sets are used to store collections of items, but they serve different purposes due to their distinct characteristics. Here's a breakdown of when and why you might choose a set over a list:\n",
    "\n",
    " -- Eliminating Duplicates: If you have a list with potential duplicate items and you need only unique elements, converting it to a set is an efficient solution.\n",
    "-- Fast Membership Testing: Sets are optimized for checking the existence of an element. Using the in keyword is faster with sets than with lists, especially for large collections.\n",
    "-- Performing Set Operations: Sets support mathematical operations like union, intersection, and difference, which are useful for comparing collections.\n",
    "-- Ensuring Unique Collection of Items: When you need to maintain a collection where each item must be unique, sets automatically enforce this constraint."
   ]
  },
  {
   "cell_type": "raw",
   "id": "35bf022a-eb11-4a2d-bcd8-09bf59c507dd",
   "metadata": {},
   "source": [
    "6. What is a string in Python, and how is it different from a list?\n",
    "\n",
    "Ans. A string is a sequence of characters enclosed in single ('), double (\"), or triple quotes (''' or \"\"\"). Strings are used to represent textual data.\n",
    "-- Key Features:\n",
    "## Immutable: Once created, strings cannot be changed. Any modification results in a new string.\n",
    "## Character Access: You can access individual characters using indexing\n",
    "## Slicing: Strings support slicing to obtain substrings.\n",
    "## Concatenation: Strings can be concatenated using the + operator.\n",
    "## Methods: Strings come with various built-in methods like .upper(), .lower(), .replace(), etc.\n",
    "\n",
    "Here, some key features of list to show the difference:\n",
    "## Mutable: Lists can be modified after creation. You can add, remove, or change items.\n",
    "## Heterogeneous Elements: Lists can contain elements of different data types.\n",
    "## Methods: Lists have various methods like .append(), .remove(), .sort(), etc.\n",
    "## Nested Lists: Lists can contain other lists as element.\n"
   ]
  },
  {
   "cell_type": "raw",
   "id": "cc78c3af-6698-444f-962c-1789f2920fe0",
   "metadata": {},
   "source": [
    "7. How do tuples ensure data integrity in Python?\n",
    "\n",
    "Ans. ## Immutability Ensures Consistency:- \n",
    "-- Once a tuple is defined, its contents remain constant throughout the program's execution. This characteristic prevents accidental or intentional modifications, safeguarding the data from unintended changes.\n",
    "## Suitable for Fixed Data Sets:- Tuples are ideal for storing data that should remain constant.\n",
    "## Optimized Performance:-\n",
    " -- Python can optimize the storage of tuples, leading to performance benefits, especially when dealing with large amounts of data that do not require modification .\n"
   ]
  },
  {
   "cell_type": "raw",
   "id": "cb53eb0c-40a3-4289-9510-f6dfdd152255",
   "metadata": {},
   "source": [
    "8. What is a hash table, and how does it relate to dictionaries in Python?\n",
    "\n",
    "Ans. A hash table uses a hash function to compute an index into an array of buckets or slots, from which the desired value can be found. This allows for quick data access, as the key is hashed to determine the index where its corresponding value is stored.\n",
    "\n",
    "-- In Python, dictionaries are implemented as hash tables. Each key in a dictionary is hashed using Python's built-in hash() function, and the resulting hash value determines where the key-value pair is stored in memory."
   ]
  },
  {
   "cell_type": "raw",
   "id": "57ec1c33-0b27-4e30-8e0d-4e2c20ac20ab",
   "metadata": {},
   "source": [
    "9. Can lists contain different data types in Python?\n",
    "\n",
    "Ans. Yes, in Python, lists can contain elements of different data types. This flexibility allows you to store a mix of integers, strings, floats, booleans, other lists, and even custom objects within a single list.\n"
   ]
  },
  {
   "cell_type": "raw",
   "id": "a3356aaa-eef7-488f-8d64-2a0991fb5dcd",
   "metadata": {},
   "source": [
    "10. Explain why strings are immutable in Python?\n",
    "\n",
    "Ans. ## Memory Efficiency and Performance\n",
    "-- Because strings are immutable, Python can optimize memory usage by reusing existing string objects. This is particularly beneficial for commonly used strings, as it avoids creating multiple copies in memory.\n",
    "\n",
    "## Hashability\n",
    "-- Immutable objects can be used as keys in dictionaries and elements in sets because their hash value remains constant. Since strings are immutable, they are hashable and can serve as reliable keys in these data structures.\n",
    "\n",
    "## Thread Safety\n",
    "--In multi-threaded environments, immutable objects are inherently thread-safe because their state cannot change. This eliminates the need for synchronization mechanisms when multiple threads access the same string.\n",
    "\n",
    "## Predictability and Reliability\n",
    "-- Immutability ensures that strings remain consistent throughout their lifetime, reducing the likelihood of bugs caused by unintended modifications. This predictability makes code easier to understand and maintain.\n"
   ]
  },
  {
   "cell_type": "raw",
   "id": "506ea3b5-53bc-4e33-a59a-90b749960839",
   "metadata": {},
   "source": [
    "11. What advantages do dictionaries offer over lists for certain tasks?\n",
    "\n",
    "Ans. In Python, both lists and dictionaries are versatile data structures, but they serve different purposes.\n",
    "--  Here's a breakdown of the advantages dictionaries offer over lists:\n",
    "\n",
    "## Faster Data Retrieval\n",
    "Dictionaries provide constant-time (O(1)) access to values when using keys, thanks to their underlying hash table implementation. In contrast, lists require linear-time (O(n)) searches when the position of the desired item is unknown.\n",
    "\n",
    "## Meaningful Data Association\n",
    "Dictionaries allow you to associate unique keys with values, making the data more descriptive and easier to understand. This is particularly useful when the data has an inherent identifier.\n",
    "\n",
    "## Ideal for Structured Data\n",
    "When dealing with structured data, such as records from a database or JSON objects, dictionaries naturally represent this structure, allowing for intuitive data manipulation.\n"
   ]
  },
  {
   "cell_type": "raw",
   "id": "9ca65c2c-65b6-44cd-ad9a-34a49ece8133",
   "metadata": {},
   "source": [
    "12.  Describe a scenario where using a tuple would be preferable over a list?\n",
    "\n",
    "Ans. Scenario: Storing Fixed Configuration Settings\n",
    "-- Imagine you're developing an application that requires certain configuration settings—such as server address, port number, and protocol type—that should remain constant throughout the application's lifecycle.\n",
    "\n",
    "## Using a Tuple:\n",
    "By storing these settings in a tuple, you ensure that they remain immutable. This immutability acts as a safeguard against accidental modifications, preserving the integrity of your configuration data.\n",
    "\n",
    "## Using a List :  While a list could store the same data\n",
    "Lists are mutable, meaning their contents can be changed. This mutability introduces the risk of unintentional alterations to critical configuration settings during the program's execution."
   ]
  },
  {
   "cell_type": "raw",
   "id": "6e2aaeec-37ee-4cc4-bcc9-1a6abdc86f6b",
   "metadata": {},
   "source": [
    "13. How do sets handle duplicate values in Python?\n",
    "\n",
    "Ans. In Python, sets automatically eliminate duplicate values. This behavior is intrinsic to the set data structure, which is designed to store unordered collections of unique elements.\n",
    "\n",
    "-- Sets in Python are implemented using hash tables, which require that each element has a unique hash value. When an element is added to a set, Python computes its hash and determines its position in the underlying data structure. \n"
   ]
  },
  {
   "cell_type": "raw",
   "id": "04b01c80-c028-404f-8bfa-5ac064745124",
   "metadata": {},
   "source": [
    "14.  How does the “in” keyword work differently for lists and dictionaries?\n",
    "\n",
    "Ans. ## in with Lists\n",
    "-- When used with a list, in checks if a specified value exists as an element within the list. This operation involves a linear search, meaning Python iterates through each element of the list until it finds a match or reaches the end.\n",
    "\n",
    "## in with Dictionaries\n",
    "-- When used with a dictionary, in checks if a specified key exists within the dictionary's set of keys. This operation is optimized using a hash table, allowing for average-case constant time complexity, O(1), for membership tests."
   ]
  },
  {
   "cell_type": "raw",
   "id": "03da95da-ac13-4960-993b-68d7b26a7cd2",
   "metadata": {},
   "source": [
    "15. Can you modify the elements of a tuple? Explain why or why not?\n",
    "\n",
    "Ans. No, we cannot modify the elements of a tuple in Python. Tuples are immutable data structures, meaning that once they are created, their contents cannot be altered. This immutability ensures data integrity and allows tuples to be used as keys in dictionaries, unlike lists which are mutable.\n",
    "\n",
    "-- While you cannot modify a tuple directly, you can create a new tuple with the desired changes."
   ]
  },
  {
   "cell_type": "raw",
   "id": "c083e97e-3923-4ffa-8b48-61fe9ecc9ad1",
   "metadata": {},
   "source": [
    "16. What is a nested dictionary, and give an example of its use case?\n",
    "\n",
    "Ans. A nested dictionary is simply a dictionary within another dictionary. This nesting can occur at multiple levels, enabling the representation of complex data structures.\n",
    "\n",
    "## Use Case: Storing Student Records\n",
    "Nested dictionaries are particularly useful for storing structured data, such as student records, where each student's information includes multiple fields.\n",
    "Example:\n",
    "students = {\n",
    "    101: {'name': 'Alice', 'age': 20, 'grades': {'Math': 'A', 'Science': 'B'}},\n",
    "    102: {'name': 'Bob', 'age': 22, 'grades': {'Math': 'C', 'History': 'B'}}\n",
    "}"
   ]
  },
  {
   "cell_type": "raw",
   "id": "b3221ffb-ef68-4fab-a077-2a24ba591158",
   "metadata": {},
   "source": [
    "17.  Describe the time complexity of accessing elements in a dictionary?\n",
    "\n",
    "Ans. Time Complexity of Accessing Elements\n",
    "-- Average Case (O(1)): In most scenarios, accessing a value by its key in a dictionary is a constant-time operation. This means that regardless of the size of the dictionary, the time it takes to retrieve a value remains approximately the same.\n",
    "\n",
    "-- Worst Case (O(n)): In rare situations, such as when many keys have the same hash value (collisions), the time complexity can degrade to linear time. However, this is uncommon due to Python's effective handling of hash collisions."
   ]
  },
  {
   "cell_type": "raw",
   "id": "bacdbe9c-ab28-48b4-a0e9-c8694e2c24f4",
   "metadata": {},
   "source": [
    "18. In what situations are lists preferred over dictionaries?\n",
    "\n",
    "Ans. Situations Where Lists Are Preferred\n",
    "-- Maintaining Sequence: When the order of elements is crucial, such as processing tasks in a specific sequence.\n",
    "-- Iterative Processing: When you need to iterate over elements in a specific order or perform operations based on the position of elements.\n",
    "--Handling Duplicates: When the same item needs to appear multiple times in your collection, lists allow duplicates.\n",
    "--Flexible Collection Size: When the number of elements can change over time, lists provide dynamic sizing."
   ]
  },
  {
   "cell_type": "raw",
   "id": "70390778-8e85-4fda-8704-7667e51211d7",
   "metadata": {},
   "source": [
    "19. Why are dictionaries considered unordered, and how does that affect data retrieval?\n",
    "\n",
    "Ans. In earlier versions of Python (prior to 3.7), dictionaries did not guarantee any specific order for the key-value pairs. This was due to the nature of hash tables, where the placement of keys is determined by their hash values, leading to an arrangement that is not based on the sequence of insertion. As a result, when iterating over a dictionary or printing its contents, the order could appear arbitrary.\n",
    "\n",
    "## Implications for Data Retrieval\n",
    "-- Despite the insertion order being preserved in Python 3.7 and later, dictionaries are still considered unordered collections in certain contexts:\n",
    "-- No Indexing or Slicing: You cannot access dictionary items by position or slice them like lists.\n",
    "GeeksforGeeks\n",
    "-- Key-Based Access: Data retrieval is based on keys, not positions.\n",
    "-- Efficiency Considerations: The primary advantage of dictionaries is their efficient key-based lookups, not the order of elements."
   ]
  },
  {
   "cell_type": "raw",
   "id": "bd25a74d-0208-4ac3-85c4-1dde1696e516",
   "metadata": {},
   "source": [
    "20. Explain the difference between a list and a dictionary in terms of data retrieval.\n",
    "\n",
    "Ans. ## Lists: Indexed Sequences\n",
    "-- Structure: Ordered collections of items, accessible via integer indices starting from 0.\n",
    "FavTutor\n",
    "-- Access Method: Retrieve elements by their position using an index.\n",
    "-- Time Complexity:\n",
    "Access by Index: O(1)\n",
    "Search for Item: O(n) on average, as it may require scanning through the entire list.\n",
    "GeeksforGeeks\n",
    "--Use Case: Ideal when the order of elements matters or when you need to access elements by their position.\n",
    "\n",
    "## Dictionaries: Key-Value Pairs\n",
    "-- Structure: Unordered collections of unique keys mapped to values.\n",
    "-- Access Method: Retrieve values using their associated keys.\n",
    "-- Time Complexity:\n",
    "Access by Key: O(1) on average, due to the underlying hash table implementation.\n",
    "Search for Key: O(1) on average; however, searching by value requires O(n) time.\n",
    "Stack Overflow\n",
    "-- Use Case: Suitable when you need to associate unique identifiers (keys) with values and require fast lookups.\n",
    "\n"
   ]
  },
  {
   "cell_type": "code",
   "execution_count": 7,
   "id": "71473596-1783-41ae-82b0-2a1ff6308807",
   "metadata": {},
   "outputs": [
    {
     "name": "stdout",
     "output_type": "stream",
     "text": [
      "Anjali\n"
     ]
    }
   ],
   "source": [
    "## Practical Question :\n",
    "## Write a code to create a string with your name and print it\n",
    "\n",
    "name = \"Anjali\"\n",
    "print(name)"
   ]
  },
  {
   "cell_type": "code",
   "execution_count": 9,
   "id": "0eeeb81b-2ec6-4ef9-8300-8a5a2f63adc8",
   "metadata": {},
   "outputs": [
    {
     "name": "stdout",
     "output_type": "stream",
     "text": [
      "11\n"
     ]
    }
   ],
   "source": [
    "## Write a code to find the length of the string \"Hello World\".\n",
    "\n",
    "text = \"Hello World\"\n",
    "print(len(text))"
   ]
  },
  {
   "cell_type": "code",
   "execution_count": 11,
   "id": "f47e1b0d-42b3-458d-9eef-d48cc7a6439f",
   "metadata": {},
   "outputs": [
    {
     "name": "stdout",
     "output_type": "stream",
     "text": [
      "Pyt\n"
     ]
    }
   ],
   "source": [
    "## Write a code to slice the first 3 characters from the string \"Python Programming\".\n",
    "\n",
    "text = \"Python Programming\"\n",
    "print(text[:3])\n"
   ]
  },
  {
   "cell_type": "code",
   "execution_count": 13,
   "id": "9e1c7279-0857-4c06-81ab-0828175387ec",
   "metadata": {},
   "outputs": [
    {
     "name": "stdout",
     "output_type": "stream",
     "text": [
      "HELLO\n"
     ]
    }
   ],
   "source": [
    "## Write a code to convert the string \"hello\" to uppercase.\n",
    "\n",
    "text = \"hello\"\n",
    "print(text.upper())\n"
   ]
  },
  {
   "cell_type": "code",
   "execution_count": 15,
   "id": "de013357-5030-46cd-8ebb-8b8286c43ad0",
   "metadata": {},
   "outputs": [
    {
     "name": "stdout",
     "output_type": "stream",
     "text": [
      "I like orange\n"
     ]
    }
   ],
   "source": [
    "## Write a code to replace the word \"apple\" with \"orange\" in the string \"I like apple\".\n",
    "\n",
    "text = \"I like apple\"\n",
    "print(text.replace(\"apple\", \"orange\"))\n"
   ]
  },
  {
   "cell_type": "code",
   "execution_count": 17,
   "id": "792c406e-1f62-4e03-9e74-ba9a60e03035",
   "metadata": {},
   "outputs": [
    {
     "name": "stdout",
     "output_type": "stream",
     "text": [
      "[1, 2, 3, 4, 5]\n"
     ]
    }
   ],
   "source": [
    "## Write a code to create a list with numbers 1 to 5 and print it.\n",
    "\n",
    "numbers = list(range(1, 6))\n",
    "print(numbers)\n"
   ]
  },
  {
   "cell_type": "code",
   "execution_count": 19,
   "id": "c059920c-8391-4886-9baf-6a7bef6ba09c",
   "metadata": {},
   "outputs": [
    {
     "name": "stdout",
     "output_type": "stream",
     "text": [
      "[1, 2, 3, 4, 10]\n"
     ]
    }
   ],
   "source": [
    "## Write a code to append the number 10 to the list [1, 2, 3, 4].\n",
    "\n",
    "numbers = [1, 2, 3, 4]\n",
    "numbers.append(10)\n",
    "print(numbers)\n"
   ]
  },
  {
   "cell_type": "code",
   "execution_count": 21,
   "id": "5a789323-a5d2-4c0c-b35a-23fad52bc78e",
   "metadata": {},
   "outputs": [
    {
     "name": "stdout",
     "output_type": "stream",
     "text": [
      "[1, 2, 4, 5]\n"
     ]
    }
   ],
   "source": [
    "## Write a code to remove the number 3 from the list [1, 2, 3, 4, 5].\n",
    "\n",
    "numbers = [1, 2, 3, 4, 5]\n",
    "numbers.remove(3)\n",
    "print(numbers)\n"
   ]
  },
  {
   "cell_type": "code",
   "execution_count": 23,
   "id": "573238b4-3012-4ab7-9541-8e124e976291",
   "metadata": {},
   "outputs": [
    {
     "name": "stdout",
     "output_type": "stream",
     "text": [
      "b\n"
     ]
    }
   ],
   "source": [
    "## Write a code to access the second element in the list ['a', 'b', 'c', 'd'].\n",
    "\n",
    "letters = ['a', 'b', 'c', 'd']\n",
    "print(letters[1])\n"
   ]
  },
  {
   "cell_type": "code",
   "execution_count": 25,
   "id": "4e712c97-9785-46ac-881a-c74f40bedad8",
   "metadata": {},
   "outputs": [
    {
     "name": "stdout",
     "output_type": "stream",
     "text": [
      "[50, 40, 30, 20, 10]\n"
     ]
    }
   ],
   "source": [
    "## Write a code to reverse the list [10, 20, 30, 40, 50].\n",
    "\n",
    "numbers = [10, 20, 30, 40, 50]\n",
    "numbers.reverse()\n",
    "print(numbers)"
   ]
  },
  {
   "cell_type": "code",
   "execution_count": 27,
   "id": "4159148e-f678-47bc-9b5d-aeb3a5cb1d28",
   "metadata": {},
   "outputs": [
    {
     "name": "stdout",
     "output_type": "stream",
     "text": [
      "(100, 200, 300)\n"
     ]
    }
   ],
   "source": [
    "## Write a code to create a tuple with the elements 100, 200, 300 and print it.\n",
    "\n",
    "my_tuple = (100, 200, 300)\n",
    "print(my_tuple)\n"
   ]
  },
  {
   "cell_type": "code",
   "execution_count": 29,
   "id": "d3d3ed00-e770-4191-97bc-3e1e69839347",
   "metadata": {},
   "outputs": [
    {
     "name": "stdout",
     "output_type": "stream",
     "text": [
      "blue\n"
     ]
    }
   ],
   "source": [
    "## Write a code to access the second-to-last element of the tuple ('red', 'green', 'blue', 'yellow').\n",
    "\n",
    "colors = ('red', 'green', 'blue', 'yellow')\n",
    "print(colors[-2])  \n"
   ]
  },
  {
   "cell_type": "code",
   "execution_count": 31,
   "id": "59e7ef44-fc8b-4669-b0db-61292a30c4d0",
   "metadata": {},
   "outputs": [
    {
     "name": "stdout",
     "output_type": "stream",
     "text": [
      "5\n"
     ]
    }
   ],
   "source": [
    "## Write a code to find the minimum number in the tuple (10, 20, 5, 15).\n",
    "\n",
    "numbers = (10, 20, 5, 15)\n",
    "print(min(numbers))  \n"
   ]
  },
  {
   "cell_type": "code",
   "execution_count": 33,
   "id": "9bddadbf-7990-4838-9cb2-62913e2f9d83",
   "metadata": {},
   "outputs": [
    {
     "name": "stdout",
     "output_type": "stream",
     "text": [
      "1\n"
     ]
    }
   ],
   "source": [
    "## Write a code to find the index of the element \"cat\" in the tuple ('dog', 'cat', 'rabbit').\n",
    "\n",
    "animals = ('dog', 'cat', 'rabbit')\n",
    "print(animals.index('cat'))  \n"
   ]
  },
  {
   "cell_type": "code",
   "execution_count": 35,
   "id": "c8dceb7c-0813-425c-8ea8-1118c1c4970a",
   "metadata": {},
   "outputs": [
    {
     "name": "stdout",
     "output_type": "stream",
     "text": [
      "False\n"
     ]
    }
   ],
   "source": [
    "## Write a code to create a tuple containing three different fruits and check if \"kiwi\" is in it.\n",
    "\n",
    "fruits = ('apple', 'banana', 'orange')\n",
    "print('kiwi' in fruits)  # Output: False\n"
   ]
  },
  {
   "cell_type": "code",
   "execution_count": 37,
   "id": "537ff382-4e2b-4ad5-a5c9-0f24a66bdde6",
   "metadata": {},
   "outputs": [
    {
     "name": "stdout",
     "output_type": "stream",
     "text": [
      "{'c', 'b', 'a'}\n"
     ]
    }
   ],
   "source": [
    "## Write a code to create a set with the elements 'a', 'b', 'c' and print it.\n",
    "\n",
    "my_set = {'a', 'b', 'c'}\n",
    "print(my_set)\n"
   ]
  },
  {
   "cell_type": "code",
   "execution_count": 39,
   "id": "1a2ecf80-5c1d-4c74-9f00-904ed9d3ee06",
   "metadata": {},
   "outputs": [
    {
     "name": "stdout",
     "output_type": "stream",
     "text": [
      "set()\n"
     ]
    }
   ],
   "source": [
    "## Write a code to clear all elements from the set {1, 2, 3, 4, 5}.\n",
    "\n",
    "numbers = {1, 2, 3, 4, 5}\n",
    "numbers.clear()\n",
    "print(numbers)  \n"
   ]
  },
  {
   "cell_type": "code",
   "execution_count": 41,
   "id": "6307cf81-6b6d-46f4-9d89-2a1bd2732bb7",
   "metadata": {},
   "outputs": [
    {
     "name": "stdout",
     "output_type": "stream",
     "text": [
      "{1, 2, 3}\n"
     ]
    }
   ],
   "source": [
    "## Write a code to remove the element 4 from the set {1, 2, 3, 4}.\n",
    "\n",
    "numbers = {1, 2, 3, 4}\n",
    "numbers.remove(4)\n",
    "print(numbers) \n"
   ]
  },
  {
   "cell_type": "code",
   "execution_count": 43,
   "id": "f38e0067-bfc2-4093-9e89-6b48d3f1bd30",
   "metadata": {},
   "outputs": [
    {
     "name": "stdout",
     "output_type": "stream",
     "text": [
      "{1, 2, 3, 4, 5}\n"
     ]
    }
   ],
   "source": [
    "## Write a code to find the union of two sets {1, 2, 3} and {3, 4, 5}.\n",
    "\n",
    "set1 = {1, 2, 3}\n",
    "set2 = {3, 4, 5}\n",
    "union_set = set1.union(set2)\n",
    "print(union_set) "
   ]
  },
  {
   "cell_type": "code",
   "execution_count": 45,
   "id": "ef0b0f6a-163b-4436-ad56-973f11d15573",
   "metadata": {},
   "outputs": [
    {
     "name": "stdout",
     "output_type": "stream",
     "text": [
      "{2, 3}\n"
     ]
    }
   ],
   "source": [
    "## Write a code to find the intersection of two sets {1, 2, 3} and {2, 3, 4}.\n",
    "\n",
    "set1 = {1, 2, 3}\n",
    "set2 = {2, 3, 4}\n",
    "intersection_set = set1.intersection(set2)\n",
    "print(intersection_set)  \n"
   ]
  },
  {
   "cell_type": "code",
   "execution_count": 47,
   "id": "66fcdf82-492a-4b1d-bc90-6997da97d94c",
   "metadata": {},
   "outputs": [
    {
     "name": "stdout",
     "output_type": "stream",
     "text": [
      "{'name': 'Anjali', 'age': 27, 'city': 'Patna'}\n"
     ]
    }
   ],
   "source": [
    "## Write a code to create a dictionary with the keys \"name\", \"age\", and \"city\", and print it.\n",
    "\n",
    "person = {\n",
    "    'name': 'Anjali',\n",
    "    'age': 27,\n",
    "    'city': 'Patna'\n",
    "}\n",
    "print(person)\n"
   ]
  },
  {
   "cell_type": "code",
   "execution_count": 53,
   "id": "390dac13-658b-4bc8-9e92-45bcd9021730",
   "metadata": {},
   "outputs": [
    {
     "name": "stdout",
     "output_type": "stream",
     "text": [
      "{'name': 'John', 'age': 25, 'country': 'USA'}\n"
     ]
    }
   ],
   "source": [
    "## Write a code to add a new key-value pair \"country\": \"USA\" to the dictionary {'name': 'John', 'age': 25}.\n",
    "\n",
    "person = {'name': 'John', 'age': 25}\n",
    "person['country'] = 'USA'\n",
    "print(person)\n"
   ]
  },
  {
   "cell_type": "code",
   "execution_count": 55,
   "id": "f49d57d2-ff13-4bc9-ad75-6a881fcc9827",
   "metadata": {},
   "outputs": [
    {
     "name": "stdout",
     "output_type": "stream",
     "text": [
      "Alice\n"
     ]
    }
   ],
   "source": [
    "## Write a code to access the value associated with the key \"name\" in the dictionary {'name': 'Alice', 'age': 30}.\n",
    "\n",
    "person = {'name': 'Alice', 'age': 30}\n",
    "print(person['name'])\n"
   ]
  },
  {
   "cell_type": "code",
   "execution_count": 49,
   "id": "5d1a2410-9d46-49aa-931a-1bb77f492c52",
   "metadata": {},
   "outputs": [
    {
     "name": "stdout",
     "output_type": "stream",
     "text": [
      "{'name': 'John', 'age': 25, 'country': 'USA'}\n"
     ]
    }
   ],
   "source": [
    "## Write a code to remove the key \"age\" from the dictionary {'name': 'Bob', 'age': 22, 'city': 'New York'}.\n",
    "\n",
    "person = {'name': 'Bob', 'age': 22, 'city': 'New York'}\n",
    "del person['age']\n",
    "print(person)\n"
   ]
  },
  {
   "cell_type": "code",
   "execution_count": 59,
   "id": "9579cc2c-1a58-40af-8922-34efe8042b99",
   "metadata": {},
   "outputs": [
    {
     "name": "stdout",
     "output_type": "stream",
     "text": [
      "True\n"
     ]
    }
   ],
   "source": [
    "## Write a code to check if the key \"city\" exists in the dictionary {'name': 'Alice', 'city': 'Paris'}.\n",
    "\n",
    "person = {'name': 'Alice', 'city': 'Paris'}\n",
    "print('city' in person)\n"
   ]
  },
  {
   "cell_type": "code",
   "execution_count": 61,
   "id": "b4f5dac7-5816-4882-b8aa-d14b0f17b10c",
   "metadata": {},
   "outputs": [
    {
     "name": "stdout",
     "output_type": "stream",
     "text": [
      "List: [1, 2, 3]\n",
      "Tuple: ('a', 'b', 'c')\n",
      "Dictionary: {'key1': 'value1', 'key2': 'value2'}\n"
     ]
    }
   ],
   "source": [
    "## Write a code to create a list, a tuple, and a dictionary, and print them all.\n",
    "\n",
    "my_list = [1, 2, 3]\n",
    "my_tuple = ('a', 'b', 'c')\n",
    "my_dict = {'key1': 'value1', 'key2': 'value2'}\n",
    "\n",
    "print(\"List:\", my_list)\n",
    "print(\"Tuple:\", my_tuple)\n",
    "print(\"Dictionary:\", my_dict)\n"
   ]
  },
  {
   "cell_type": "code",
   "execution_count": 65,
   "id": "8a8a0937-136b-42e0-b623-8bf250b04c05",
   "metadata": {},
   "outputs": [
    {
     "name": "stdout",
     "output_type": "stream",
     "text": [
      "[5, 50, 53, 88, 93]\n"
     ]
    }
   ],
   "source": [
    "## Write a code to create a list of 5 random numbers between 1 and 100, sort it in ascending order, and print the\n",
    "# result.(replaced)\n",
    "import random\n",
    "\n",
    "random_numbers = random.sample(range(1, 101), 5)\n",
    "random_numbers.sort()\n",
    "print(random_numbers)\n"
   ]
  },
  {
   "cell_type": "code",
   "execution_count": 67,
   "id": "bcf219ef-7f0e-4d6a-86b5-98128d3edf61",
   "metadata": {},
   "outputs": [
    {
     "name": "stdout",
     "output_type": "stream",
     "text": [
      "date\n"
     ]
    }
   ],
   "source": [
    "## Write a code to create a list with strings and print the element at the third index.\n",
    "\n",
    "words = ['apple', 'banana', 'cherry', 'date', 'elderberry']\n",
    "print(words[3])\n"
   ]
  },
  {
   "cell_type": "code",
   "execution_count": 69,
   "id": "454a9624-0221-4adc-8471-28e330aa943a",
   "metadata": {},
   "outputs": [
    {
     "name": "stdout",
     "output_type": "stream",
     "text": [
      "{'a': 1, 'b': 2, 'c': 3, 'd': 4}\n"
     ]
    }
   ],
   "source": [
    "## Write a code to combine two dictionaries into one and print the result.\n",
    "\n",
    "dict1 = {'a': 1, 'b': 2}\n",
    "dict2 = {'c': 3, 'd': 4}\n",
    "combined_dict = {**dict1, **dict2}\n",
    "print(combined_dict)\n"
   ]
  },
  {
   "cell_type": "code",
   "execution_count": 71,
   "id": "e9952dee-3a5d-4a79-94e2-5e684c020ab5",
   "metadata": {},
   "outputs": [
    {
     "name": "stdout",
     "output_type": "stream",
     "text": [
      "{'apple', 'cherry', 'banana'}\n"
     ]
    }
   ],
   "source": [
    "## Write a code to convert a list of strings into a set.\n",
    "\n",
    "string_list = ['apple', 'banana', 'cherry', 'apple']\n",
    "string_set = set(string_list)\n",
    "print(string_set)\n"
   ]
  },
  {
   "cell_type": "code",
   "execution_count": null,
   "id": "f31ec6c4-1d9a-4e12-8d29-59998f0c897c",
   "metadata": {},
   "outputs": [],
   "source": []
  }
 ],
 "metadata": {
  "kernelspec": {
   "display_name": "Python [conda env:venv]",
   "language": "python",
   "name": "conda-env-venv-py"
  },
  "language_info": {
   "codemirror_mode": {
    "name": "ipython",
    "version": 3
   },
   "file_extension": ".py",
   "mimetype": "text/x-python",
   "name": "python",
   "nbconvert_exporter": "python",
   "pygments_lexer": "ipython3",
   "version": "3.12.0"
  }
 },
 "nbformat": 4,
 "nbformat_minor": 5
}
