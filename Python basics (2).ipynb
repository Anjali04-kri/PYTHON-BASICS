{
 "cells": [
  {
   "cell_type": "raw",
   "id": "0ee06c8c-2325-43fc-905c-88382d6801f6",
   "metadata": {},
   "source": [
    "-- What is Python, and why is it popular ?\n",
    "\n",
    "Ans. python is a high level interpreted programming language known for its clear syntax and readability.\n",
    "## It is popular beacuse of its some key features:\n",
    "* Easy to learn and use\n",
    "* Versatile\n",
    "* Large community and support\n",
    "* Cross - platform\n",
    "* Rapid development\n"
   ]
  },
  {
   "cell_type": "raw",
   "id": "65c68da0-8960-4de4-bf20-dc2b084120fd",
   "metadata": {},
   "source": [
    "-- What is an interpreter in Python ?\n",
    "\n",
    "Ans. An interpreter in Python is a program that reads and executes Python code line by line. It takes the human-readable Python code (which is written in .py files) and directly translates Python code into bytecode, a lower-level form."
   ]
  },
  {
   "cell_type": "raw",
   "id": "bc427a86-8c8c-4ebd-a4ef-f50f40a85a08",
   "metadata": {},
   "source": [
    "-- What are pre-defined keywords in Python ?\n",
    "\n",
    "Ans. pre-defined keywords in Python are reserved words that have special meaning to the Python interpreter. \n",
    "These keywords are part of the core syntax and cannot be used as identifiers."
   ]
  },
  {
   "cell_type": "raw",
   "id": "d0b6b23a-1da3-424e-9c63-0673ac386eb2",
   "metadata": {},
   "source": [
    "-- Can keywords be used as variable names ?\n",
    "\n",
    "Ans. No, keywords cannot be used as variable names in Python. "
   ]
  },
  {
   "cell_type": "raw",
   "id": "1fdf59f2-d55f-4aa7-ae40-42e3680e3074",
   "metadata": {},
   "source": [
    "-- What is mutability in Python ?\n",
    "\n",
    "Ans. Mutability in Python refers to whether an object’s internal state (data) can be changed after it’s created.\n"
   ]
  },
  {
   "cell_type": "raw",
   "id": "3c1fe6b6-d041-493f-903e-342e28cf40d2",
   "metadata": {},
   "source": [
    "-- Why are lists mutable, but tuples are immutable ?\n",
    "\n",
    "Ans. ** Lists are meant to store dynamic collections of items that might change — like adding, removing, or updating elements.\n",
    "         Lists support a wide range of operations that modify the data in place.\n",
    "\n",
    "     ** Tuples are meant to store constant, structured data that shouldn't change. tuples are faster and more memory-efficient than lists.\n",
    "        Immutability reduces bugs when passing data between functions or threads — the data can't be accidentally modified.\n"
   ]
  },
  {
   "cell_type": "raw",
   "id": "18af8abe-a182-4426-b335-847bc78e96f9",
   "metadata": {},
   "source": [
    "-- What is the difference between “==” and “is” operators in Python?\n",
    "\n",
    "Ans. ## In Python, == and is are both comparison operators, but they do very different things:\n",
    "      **  == (Equality Operator) -> Compares values of two objects.Checks whether the contents (data) of the objects are equal.\n",
    "\n",
    "      ** is (Identity Operator) -> Compares identities of two objects.Checks whether both variables point to the same object in memory.\n"
   ]
  },
  {
   "cell_type": "raw",
   "id": "19427f36-dfc7-4c42-834d-625077ec0781",
   "metadata": {},
   "source": [
    "-- What are logical operators in Python ?\n",
    "\n",
    "Ans. ## In Python, logical operators are used to combine conditional statements and return a Boolean value (True or False).\n",
    "      ** (and) Logical AND -> Returns True if both conditions are True   \tE.g True and True → True\n",
    "      **  (or) Logical OR ->  Returns True if at least one condition is True\tE.g True or False → True\n",
    "      **  (not) Logical NOT -> \tReverses the Boolean value\t                  E.g   not True → False\n"
   ]
  },
  {
   "cell_type": "raw",
   "id": "0cec7804-7916-4928-8610-e49644c09cb6",
   "metadata": {},
   "source": [
    "-- What is type casting in Python ?\n",
    "\n",
    "Ans. Type casting in Python refers to converting one data type into another. This is useful when you need to manipulate data or perform \n",
    "      operations thatrequire a specific type."
   ]
  },
  {
   "cell_type": "raw",
   "id": "5f6f4292-b16d-4128-9d49-8bfd8f259b5f",
   "metadata": {},
   "source": [
    "-- What is the difference between implicit and explicit type casting ?\n",
    "\n",
    "Ans. ## There are two types of type casting in Python:\n",
    "\n",
    "    1.  Implicit Type Casting (Automatic)\n",
    "       ** This happens automatically when Python converts one type to another without explicit instruction.\n",
    "       ** Python will automatically cast lower precision types to higher precision types.\n",
    "       ** This type of casting is safe, as Python ensures no data loss occurs in the conversion. \n",
    "\n",
    "    2.  Explicit Type Casting (Manual)\n",
    "        ** This happens when you manually convert a value from one data type to another using built-in functions.\n",
    "        ** This is required when you want to convert data to a type that Python wouldn't do automatically, or when you need to force a\n",
    "            conversion to a specific type.\n",
    "\n",
    "        ** Explicit casting allows the programmer to be more precise, but can also lead to data loss in certain cases.\n"
   ]
  },
  {
   "cell_type": "raw",
   "id": "3bff7701-84c2-43ae-965c-22adeb01e0a5",
   "metadata": {},
   "source": [
    "-- What is the purpose of conditional statements in Python ?\n",
    "\n",
    "Ans.The purpose of conditional statements in Python is to control the flow of execution in a program based on certain conditions.\n",
    "     ** They allow your program to make decisions and choose different paths of execution based on the outcome of these conditions \n",
    "         (either True or False).\n",
    "     ** Conditional statements are fundamental for creating dynamic programs that can respond to different inputs, user choices, or other factors."
   ]
  },
  {
   "cell_type": "raw",
   "id": "442ff62b-961a-4b20-af43-f11613fd151e",
   "metadata": {},
   "source": [
    "-- How does the elif statement work ?\n",
    "\n",
    "Ans. The elif (\"else if\") statement in Python is used to check multiple conditions, allowing us to specify different actions for various cases. It’s a part of the conditional chain that follows an if statement and is checked only if the preceding conditions (like the if or any previous elif) are False.\n",
    "\n",
    "       ## How elif works:\n",
    "       **   The if statement checks the first condition. If it's True, the block of code inside it is executed, and the rest of the elif or else                    statements are skipped.\n",
    "\n",
    "       **   If the if condition is False, Python moves to the next elif statement (if any), checking its condition.\n",
    "\n",
    "       **   If the elif condition is True, the associated block of code will be executed, and the remaining elif or else statements will be skipped.\n",
    "\n",
    "       **   If no if or elif conditions are True, the code in the else block (if present) will execute."
   ]
  },
  {
   "cell_type": "raw",
   "id": "de408c8e-619f-45a7-a1db-919b5c2676ef",
   "metadata": {},
   "source": [
    "-- What is the difference between for and while loops ?\n",
    "\n",
    "Ans. In Python, both for and while loops are used for repeating actions multiple times, but they work differently and are used in different situations.\n",
    "\n",
    "      ##  the key differences are :\n",
    "\n",
    "       1. for Loop\n",
    "        ** The for loop is used when we know exactly how many times we want to repeat a block of code or when we want to iterate over a sequence (like              a list, tuple, dictionary, or range).\n",
    "\n",
    "        **  It automatically iterates over each element of a sequence or a range.\n",
    "\n",
    "        2. while Loop\n",
    "           ** The while loop is used when we want to repeat a block of code as long as a condition is true. we do not need to know the number of                      iterations beforehand, but rather use a condition to control the loop.\n",
    "\n",
    "           ** The loop continues running until the condition evaluates to False."
   ]
  },
  {
   "cell_type": "raw",
   "id": "a2ab4b98-3aef-4c1a-b7a3-b69944d59077",
   "metadata": {},
   "source": [
    "-- Describe a scenario where a while loop is more suitable than a for loop ?\n",
    "\n",
    "Ans.  A while loop is more suitable than a for loop when we don’t know in advance how many times the loop needs to run — especially when looping              depends on a condition that changes during execution, such as user input or system state.\n",
    "\n",
    "         Example Scenario: User Login Validation\n",
    "           we are writing a program that asks a user to enter the correct password. we don't know how many times the user might enter the wrong                    password — so a while loop is the best choice here.\n",
    "\n",
    "            correct_password = \"python123\"\n",
    "            user_input = input(\"Enter your password: \")\n",
    "\n",
    "           while user_input != correct_password:\n",
    "              print(\"Incorrect password. Try again.\")\n",
    "              user_input = input(\"Enter your password: \")\n",
    "\n",
    "           print(\"Access granted.\")\n",
    "\n",
    "     ***   Here, The loop needs to continue until the correct password is entered. The loop is condition-based, \n",
    "           not count-based."
   ]
  },
  {
   "cell_type": "code",
   "execution_count": 1,
   "id": "e7082bc7-7c58-4baf-a027-93dc18a12a09",
   "metadata": {},
   "outputs": [
    {
     "name": "stdout",
     "output_type": "stream",
     "text": [
      "Hello, World!\n"
     ]
    }
   ],
   "source": [
    "## Practical Questions\n",
    "## Write a Python program to print \"Hello, World!\"\n",
    "print(\"Hello, World!\")"
   ]
  },
  {
   "cell_type": "code",
   "execution_count": 3,
   "id": "2e50675e-5178-4b5f-aaef-945061cc6fe4",
   "metadata": {},
   "outputs": [
    {
     "name": "stdout",
     "output_type": "stream",
     "text": [
      "Name: Anjali\n",
      "Age: 27\n"
     ]
    }
   ],
   "source": [
    "## Write a Python program that displays your name and age.\n",
    "name = \"Anjali\"\n",
    "age = 27\n",
    "\n",
    "print(\"Name:\", name)\n",
    "print(\"Age:\", age)"
   ]
  },
  {
   "cell_type": "code",
   "execution_count": 11,
   "id": "55b8692f-d0d9-4a5d-a239-a1decb796e33",
   "metadata": {},
   "outputs": [
    {
     "name": "stdout",
     "output_type": "stream",
     "text": [
      "Python Keywords:\n",
      "False\n",
      "None\n",
      "True\n",
      "and\n",
      "as\n",
      "assert\n",
      "async\n",
      "await\n",
      "break\n",
      "class\n",
      "continue\n",
      "def\n",
      "del\n",
      "elif\n",
      "else\n",
      "except\n",
      "finally\n",
      "for\n",
      "from\n",
      "global\n",
      "if\n",
      "import\n",
      "in\n",
      "is\n",
      "lambda\n",
      "nonlocal\n",
      "not\n",
      "or\n",
      "pass\n",
      "raise\n",
      "return\n",
      "try\n",
      "while\n",
      "with\n",
      "yield\n"
     ]
    }
   ],
   "source": [
    "## Write code to print all the pre-defined keywords in Python using the keyword library.\n",
    "\n",
    " import keyword\n",
    "# Get the list of all Python keywords\n",
    "keywords = keyword.kwlist\n",
    "\n",
    "print(\"Python Keywords:\")\n",
    "for kw in keywords:\n",
    "    print(kw)\n"
   ]
  },
  {
   "cell_type": "code",
   "execution_count": 17,
   "id": "393cad33-02bb-4323-b2c0-8390fdf22d14",
   "metadata": {},
   "outputs": [
    {
     "name": "stdin",
     "output_type": "stream",
     "text": [
      "Enter a word to check if it's a Python keyword:  while\n"
     ]
    },
    {
     "name": "stdout",
     "output_type": "stream",
     "text": [
      "'while' is a Python keyword.\n"
     ]
    }
   ],
   "source": [
    "## Write a program that checks if a given word is a Python keyword.\n",
    "word = input(\"Enter a word to check if it's a Python keyword: \")\n",
    "\n",
    "# Check if the word is a keyword\n",
    "if keyword.iskeyword(word):\n",
    "    print(f\"'{word}' is a Python keyword.\")\n",
    "else:\n",
    "    print(f\"'{word}' is NOT a Python keyword.\")\n",
    "\n"
   ]
  },
  {
   "cell_type": "code",
   "execution_count": 11,
   "id": "4184913a-f617-41ab-97ec-ae9ac10dd109",
   "metadata": {},
   "outputs": [
    {
     "name": "stdout",
     "output_type": "stream",
     "text": [
      "Original list: [1, 2, 3]\n",
      "Modified list: [1, 99, 3]\n",
      "Original tuple: (1, 2, 3)\n"
     ]
    },
    {
     "ename": "TypeError",
     "evalue": "'tuple' object does not support item assignment",
     "output_type": "error",
     "traceback": [
      "\u001b[1;31m---------------------------------------------------------------------------\u001b[0m",
      "\u001b[1;31mTypeError\u001b[0m                                 Traceback (most recent call last)",
      "Cell \u001b[1;32mIn[11], line 14\u001b[0m\n\u001b[0;32m     12\u001b[0m \u001b[38;5;66;03m# Try to modify an element in the tuple\u001b[39;00m\n\u001b[0;32m     13\u001b[0m \u001b[38;5;28mprint\u001b[39m(\u001b[38;5;124m\"\u001b[39m\u001b[38;5;124mOriginal tuple:\u001b[39m\u001b[38;5;124m\"\u001b[39m, my_tuple)\n\u001b[1;32m---> 14\u001b[0m \u001b[43mmy_tuple\u001b[49m\u001b[43m[\u001b[49m\u001b[38;5;241;43m1\u001b[39;49m\u001b[43m]\u001b[49m \u001b[38;5;241m=\u001b[39m \u001b[38;5;241m99\u001b[39m  \n\u001b[0;32m     15\u001b[0m \u001b[38;5;28mprint\u001b[39m(\u001b[38;5;124m\"\u001b[39m\u001b[38;5;124mModified tuple:\u001b[39m\u001b[38;5;124m\"\u001b[39m,my_tuple)\n",
      "\u001b[1;31mTypeError\u001b[0m: 'tuple' object does not support item assignment"
     ]
    }
   ],
   "source": [
    "## . Create a list and tuple in Python, and demonstrate how attempting to change an element works differently for each.\n",
    "\n",
    "# Create a list and a tuple\n",
    "my_list = [1, 2, 3]\n",
    "my_tuple = (1, 2, 3)\n",
    "\n",
    "# Modify an element in the list\n",
    "print(\"Original list:\", my_list)\n",
    "my_list[1] = 99\n",
    "print(\"Modified list:\", my_list)\n",
    "\n",
    "# Try to modify an element in the tuple\n",
    "print(\"Original tuple:\", my_tuple)\n",
    "my_tuple[1] = 99  \n",
    "print(\"Modified tuple:\",my_tuple)"
   ]
  },
  {
   "cell_type": "code",
   "execution_count": 77,
   "id": "195cd4f5-0b08-45cc-8c80-59b74a88ce91",
   "metadata": {},
   "outputs": [
    {
     "name": "stdout",
     "output_type": "stream",
     "text": [
      "Before function call:\n",
      "a = 10\n",
      "b = [1, 2, 3]\n",
      "Inside function - Immutable: 15\n",
      "Inside function - Mutable: [1, 2, 3, 5]\n",
      "\n",
      "After function call:\n",
      "a = 10\n",
      "b = [1, 2, 3, 5]\n"
     ]
    }
   ],
   "source": [
    "## Write a function to demonstrate the behavior of mutable and immutable arguments.\n",
    "\n",
    "def demo(args):\n",
    "    num = args[0] + 5\n",
    "    print(\"Inside function - Immutable:\", num)\n",
    "\n",
    "    # Modify mutable argument (list)\n",
    "    args[1].append(5)\n",
    "    print(\"Inside function - Mutable:\", args[1])\n",
    "\n",
    "a = 10\n",
    "b = [1, 2, 3]\n",
    "\n",
    "# Before calling the function\n",
    "print(\"Before function call:\")\n",
    "print(\"a =\", a)\n",
    "print(\"b =\", b)\n",
    "\n",
    "# Call the function with the arguments\n",
    "demo([a, b])\n",
    "\n",
    "# After calling the function\n",
    "print(\"\\nAfter function call:\")\n",
    "print(\"a =\", a)  \n",
    "print(\"b =\", b)  \n",
    "\n"
   ]
  },
  {
   "cell_type": "code",
   "execution_count": 33,
   "id": "1e6c8163-ea28-46e1-be73-99a92be167b1",
   "metadata": {},
   "outputs": [
    {
     "name": "stdin",
     "output_type": "stream",
     "text": [
      "Enter the first number:  10\n",
      "Enter the second number:  5\n"
     ]
    },
    {
     "name": "stdout",
     "output_type": "stream",
     "text": [
      "\n",
      "Results:\n",
      "Addition:  15.0\n",
      "Subtraction: 5.0\n",
      "Multiplication: 50.0\n",
      "Division: 10.0 / 5.0 = 2.0\n"
     ]
    }
   ],
   "source": [
    "## Write a program that performs basic arithmetic operations on two user-input numbers.\n",
    "def arithmetic_operations():\n",
    "    num1 = float(input(\"Enter the first number: \"))\n",
    "    num2 = float(input(\"Enter the second number: \"))\n",
    "\n",
    "    # Perform arithmetic operations\n",
    "    print(\"\\nResults:\")\n",
    "    print(f\"Addition:  {num1 + num2}\")\n",
    "    print(f\"Subtraction: {num1 - num2}\")\n",
    "    print(f\"Multiplication: {num1 * num2}\")\n",
    "    print(f\"Division: {num1 / num2}\")\n",
    "    \n",
    "# Run the function\n",
    "arithmetic_operations()\n",
    "    "
   ]
  },
  {
   "cell_type": "code",
   "execution_count": 35,
   "id": "91b802da-edb8-4733-a936-3fc2389f91fa",
   "metadata": {},
   "outputs": [
    {
     "name": "stdout",
     "output_type": "stream",
     "text": [
      "a = True\n",
      "b = False\n",
      "a and b = False\n",
      "a or b = True\n",
      "not a = False\n",
      "not b = True\n"
     ]
    }
   ],
   "source": [
    "## Write a program to demonstrate the use of logical operators.\n",
    "\n",
    "# Define two boolean values\n",
    "a = True\n",
    "b = False\n",
    "\n",
    "# Print the values\n",
    "print(\"a =\", a)\n",
    "print(\"b =\", b)\n",
    "\n",
    "# Use logical AND\n",
    "print(\"a and b =\", a and b)  # True only if both are True\n",
    "\n",
    "# Use logical OR\n",
    "print(\"a or b =\", a or b)    # True if at least one is True\n",
    "\n",
    "# Use logical NOT\n",
    "print(\"not a =\", not a)      # Opposite of a\n",
    "print(\"not b =\", not b)      # Opposite of b\n"
   ]
  },
  {
   "cell_type": "code",
   "execution_count": 37,
   "id": "2c982617-c921-4425-9293-29edb96d6f1f",
   "metadata": {},
   "outputs": [
    {
     "name": "stdin",
     "output_type": "stream",
     "text": [
      "Enter a value:  5\n"
     ]
    },
    {
     "name": "stdout",
     "output_type": "stream",
     "text": [
      "As Integer: 5\n",
      "As Float: 5.0\n",
      "As Boolean: True\n"
     ]
    }
   ],
   "source": [
    "## Write a Python program to convert user input from string to integer, float, and boolean types.\n",
    "\n",
    "value = input(\"Enter a value: \")\n",
    "\n",
    "# Convert to integer\n",
    "print(\"As Integer:\", int(value))    \n",
    "# Convert to float\n",
    "print(\"As Float:\", float(value))    \n",
    "# Convert to boolean\n",
    "# Any non-empty string is True, empty string is False\n",
    "print(\"As Boolean:\", bool(value))\n"
   ]
  },
  {
   "cell_type": "code",
   "execution_count": 39,
   "id": "6574d980-7d32-4ad4-b7d4-ae6edd637642",
   "metadata": {},
   "outputs": [
    {
     "name": "stdout",
     "output_type": "stream",
     "text": [
      "Integer list: [1, 2, 3]\n",
      "Float list: [1.0, 2.0, 3.0]\n"
     ]
    }
   ],
   "source": [
    "## Write code to demonstrate type casting with list elements.\n",
    "# List of numbers as strings\n",
    "list1 = [\"1\", \"2\", \"3\"]\n",
    "\n",
    "# Convert to integers\n",
    "list2 = [int(x) for x in list1]\n",
    "print(\"Integer list:\", list2)\n",
    "\n",
    "# Convert to floats\n",
    "list3 = [float(x) for x in list1]\n",
    "print(\"Float list:\", list3)\n"
   ]
  },
  {
   "cell_type": "code",
   "execution_count": 47,
   "id": "634d50bc-2c2c-4d37-a4f7-65f913b89b61",
   "metadata": {},
   "outputs": [
    {
     "name": "stdin",
     "output_type": "stream",
     "text": [
      "Enter a number:  7\n"
     ]
    },
    {
     "name": "stdout",
     "output_type": "stream",
     "text": [
      "The number is positive.\n"
     ]
    }
   ],
   "source": [
    "## Write a program that checks if a number is positive, negative, or zero.\n",
    "\n",
    "num = float(input(\"Enter a number: \"))\n",
    "\n",
    "# Check if the number is positive, negative, or zero\n",
    "if num > 0:\n",
    "    print(\"The number is positive.\")\n",
    "elif num < 0:\n",
    "    print(\"The number is negative.\")\n",
    "else:\n",
    "    print(\"The number is zero.\")\n"
   ]
  },
  {
   "cell_type": "code",
   "execution_count": 53,
   "id": "480e6c30-ebeb-477e-9fe4-1295ca5d8ab0",
   "metadata": {},
   "outputs": [
    {
     "name": "stdout",
     "output_type": "stream",
     "text": [
      "1\n",
      "2\n",
      "3\n",
      "4\n",
      "5\n",
      "6\n",
      "7\n",
      "8\n",
      "9\n",
      "10\n"
     ]
    }
   ],
   "source": [
    "##  Write a for loop to print numbers from 1 to 10.\n",
    "\n",
    "for i in range(1, 11):\n",
    "    print(i)\n"
   ]
  },
  {
   "cell_type": "code",
   "execution_count": 59,
   "id": "70deb075-c65d-42e7-96d6-ab44275b65b4",
   "metadata": {},
   "outputs": [
    {
     "name": "stdout",
     "output_type": "stream",
     "text": [
      "The sum of all even numbers between 1 and 50 is: 650\n"
     ]
    }
   ],
   "source": [
    "## Write a Python program to find the sum of all even numbers between 1 and 50.\n",
    "\n",
    "sum_of_evens = 0\n",
    "# Loop through numbers from 1 to 50\n",
    "for num in range(1, 51):\n",
    "    if num % 2 == 0:  \n",
    "        sum_of_evens += num  # Add the even number to the sum\n",
    "\n",
    "print(\"The sum of all even numbers between 1 and 50 is:\", sum_of_evens)\n"
   ]
  },
  {
   "cell_type": "code",
   "execution_count": 63,
   "id": "2856a8f6-1451-4cb5-b383-bf14213c5a97",
   "metadata": {},
   "outputs": [
    {
     "name": "stdin",
     "output_type": "stream",
     "text": [
      "Enter a string:  hello\n"
     ]
    },
    {
     "name": "stdout",
     "output_type": "stream",
     "text": [
      "Reversed string: olleh\n"
     ]
    }
   ],
   "source": [
    "## Write a program to reverse a string using a while loop.\n",
    "\n",
    "input_string = input(\"Enter a string\")\n",
    "\n",
    "reversed_string = \"\"\n",
    "index = len(input_string) - 1\n",
    "\n",
    "# Reverse the string using a while loop\n",
    "while index >= 0:\n",
    "    \n",
    "    reversed_string += input_string[index]\n",
    "    index -= 1\n",
    "print(\"Reversed string:\", reversed_string)\n"
   ]
  },
  {
   "cell_type": "code",
   "execution_count": 71,
   "id": "d90522a1-a252-4a8c-b728-ba3b9f09dc45",
   "metadata": {},
   "outputs": [
    {
     "name": "stdin",
     "output_type": "stream",
     "text": [
      "Enter a number 5\n"
     ]
    },
    {
     "name": "stdout",
     "output_type": "stream",
     "text": [
      "The factorial of 5 is 120\n"
     ]
    }
   ],
   "source": [
    "## Write a Python program to calculate the factorial of a number provided by the user using a while loop.\n",
    "\n",
    "num = int(input(\"Enter a number\"))\n",
    "factorial = 1\n",
    "i = 1\n",
    "\n",
    "# Calculate factorial using a while loop\n",
    "while i <= num:\n",
    "    factorial *= i  \n",
    "    i += 1  \n",
    "print(f\"The factorial of {num} is {factorial}\")\n"
   ]
  },
  {
   "cell_type": "code",
   "execution_count": null,
   "id": "eae793ce-c3d2-4802-a549-2cd402c05067",
   "metadata": {},
   "outputs": [],
   "source": []
  }
 ],
 "metadata": {
  "kernelspec": {
   "display_name": "Python [conda env:venv]",
   "language": "python",
   "name": "conda-env-venv-py"
  },
  "language_info": {
   "codemirror_mode": {
    "name": "ipython",
    "version": 3
   },
   "file_extension": ".py",
   "mimetype": "text/x-python",
   "name": "python",
   "nbconvert_exporter": "python",
   "pygments_lexer": "ipython3",
   "version": "3.12.0"
  }
 },
 "nbformat": 4,
 "nbformat_minor": 5
}
